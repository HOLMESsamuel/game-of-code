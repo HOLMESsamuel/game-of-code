{
 "cells": [
  {
   "cell_type": "markdown",
   "source": [
    "# Feature determination with unsupervised learning scoring"
   ],
   "metadata": {
    "collapsed": false,
    "pycharm": {
     "name": "#%% md\n"
    }
   }
  },
  {
   "cell_type": "code",
   "execution_count": 106,
   "metadata": {
    "collapsed": true
   },
   "outputs": [],
   "source": [
    "import pandas as pd\n",
    "import matplotlib.pyplot as plt\n",
    "import numpy as np"
   ]
  },
  {
   "cell_type": "markdown",
   "source": [
    "### the input with body dataset has been prepared from a part of the 262Go dataset by a piece of java code to exctract the mail characteristics and return a csv file to be exploited here"
   ],
   "metadata": {
    "collapsed": false,
    "pycharm": {
     "name": "#%% md\n"
    }
   }
  },
  {
   "cell_type": "code",
   "execution_count": 107,
   "metadata": {
    "pycharm": {
     "name": "#%%\n"
    }
   },
   "outputs": [
    {
     "name": "stdout",
     "output_type": "stream",
     "text": [
      "(5004, 9)\n"
     ]
    }
   ],
   "source": [
    "df = pd.read_csv(\"input_with_body.csv\")\n",
    "df.head()\n",
    "print(df.shape)"
   ]
  },
  {
   "cell_type": "code",
   "execution_count": 108,
   "metadata": {
    "pycharm": {
     "name": "#%%\n"
    }
   },
   "outputs": [
    {
     "data": {
      "text/plain": "Index(['id', 'from', 'to', 'cc', 'subject', 'body', 'date', 'reply',\n       'references'],\n      dtype='object')"
     },
     "execution_count": 108,
     "metadata": {},
     "output_type": "execute_result"
    }
   ],
   "source": [
    "df.keys()"
   ]
  },
  {
   "cell_type": "code",
   "execution_count": 109,
   "metadata": {
    "pycharm": {
     "name": "#%%\n"
    }
   },
   "outputs": [
    {
     "data": {
      "text/plain": "references    100.00\nreply          61.15\ncc             56.12\nbody            9.97\nsubject         2.72\nto              0.14\nid              0.00\nfrom            0.00\ndate            0.00\ndtype: float64"
     },
     "execution_count": 109,
     "metadata": {},
     "output_type": "execute_result"
    }
   ],
   "source": [
    "#the percentage of null value per column\n",
    "round(df.isnull().sum()*100/df.shape[0],2).sort_values(ascending=False).head(20)\n"
   ]
  },
  {
   "cell_type": "markdown",
   "metadata": {
    "pycharm": {
     "name": "#%% md\n"
    }
   },
   "source": [
    "# We create  numerical features from non numerical columns\n",
    "\n",
    "### The number of special chars in the body"
   ]
  },
  {
   "cell_type": "code",
   "execution_count": 110,
   "metadata": {
    "pycharm": {
     "name": "#%%\n"
    }
   },
   "outputs": [],
   "source": [
    "df[\"body_special_chars\"] = ''\n",
    "\n",
    "def body_special_chars(row):\n",
    "    return sum((not c.isdigit() and not c.isalpha() and not c.isspace()) for c in str(row[\"body\"]))\n",
    "\n",
    "df[\"body_special_chars\"] = df.apply(lambda row: body_special_chars(row), axis=1)\n"
   ]
  },
  {
   "cell_type": "code",
   "execution_count": 111,
   "metadata": {
    "pycharm": {
     "name": "#%%\n"
    }
   },
   "outputs": [],
   "source": [
    "df[\"body_size\"] = ''\n",
    "\n",
    "def body_size(row):\n",
    "    return len(str(row[\"body\"]))\n",
    "\n",
    "df[\"body_size\"] = df.apply(lambda row: body_size(row), axis=1)"
   ]
  },
  {
   "cell_type": "code",
   "execution_count": 112,
   "metadata": {
    "pycharm": {
     "name": "#%%\n"
    }
   },
   "outputs": [],
   "source": [
    "df[\"cc_count\"] = ''\n",
    "df.head()\n",
    "def count_cc(row):\n",
    "    if str(row[\"cc\"]) == \"nan\":\n",
    "        return 0\n",
    "    else:\n",
    "        return len(str(row[\"cc\"]).split(\"|\"))\n",
    "\n",
    "df[\"cc_count\"] = df.apply(lambda row: count_cc(row), axis=1)"
   ]
  },
  {
   "cell_type": "code",
   "execution_count": 113,
   "metadata": {
    "pycharm": {
     "name": "#%%\n"
    }
   },
   "outputs": [],
   "source": [
    "df[\"from_count\"] = ''\n",
    "\n",
    "def count_from(row):\n",
    "        return len(str(row[\"from\"]).split(\"|\"))\n",
    "\n",
    "df[\"from_count\"] = df.apply(lambda row: count_from(row), axis=1)"
   ]
  },
  {
   "cell_type": "code",
   "execution_count": 114,
   "metadata": {
    "pycharm": {
     "name": "#%%\n"
    }
   },
   "outputs": [],
   "source": [
    "df[\"to_count\"] = ''\n",
    "\n",
    "def count_to(row):\n",
    "        return len(str(row[\"to\"]).split(\"|\"))\n",
    "\n",
    "df[\"to_count\"] = df.apply(lambda row: count_to(row), axis=1)"
   ]
  },
  {
   "cell_type": "code",
   "execution_count": 115,
   "metadata": {
    "pycharm": {
     "name": "#%%\n"
    }
   },
   "outputs": [],
   "source": [
    "df[\"numbers_in_subject\"] = ''\n",
    "\n",
    "def count_numbers(row):\n",
    "    return sum(c.isdigit() for c in str(row[\"subject\"]))\n",
    "\n",
    "df[\"numbers_in_subject\"] = df.apply(lambda row: count_numbers(row), axis=1)"
   ]
  },
  {
   "cell_type": "code",
   "execution_count": 116,
   "metadata": {
    "pycharm": {
     "name": "#%%\n"
    }
   },
   "outputs": [],
   "source": [
    "df[\"subject_size\"] = ''\n",
    "\n",
    "def subject_size(row):\n",
    "    return len(str(row[\"subject\"]))\n",
    "\n",
    "df[\"subject_size\"] = df.apply(lambda row: subject_size(row), axis=1)\n"
   ]
  },
  {
   "cell_type": "code",
   "execution_count": 117,
   "metadata": {
    "pycharm": {
     "name": "#%%\n"
    }
   },
   "outputs": [
    {
     "data": {
      "text/plain": "   id                                               from  \\\n0   1                                 <docs@sawatzky.ru>   \n1   2           Gorbey Viacheslav <v.gorbey@sawatzky.ru>   \n2   3           Gorbey Viacheslav <v.gorbey@sawatzky.ru>   \n3   4                                 <docs@sawatzky.ru>   \n4   5  corp.autoreply@ntvplus.com <corp.autoreply@ntv...   \n\n                                                  to  \\\n0                        <a.anishchenko@sawatzky.ru>   \n1  Kulakov Dmitry <dk@sawatzky.ru>| Kalinovsky Ro...   \n2  Roman Vinogradov VTV GROUP LLC <vinogradov@vtv...   \n3                        <a.anishchenko@sawatzky.ru>   \n4    Anishenko Aleksandr <a.anishchenko@sawatzky.ru>   \n\n                                                  cc  \\\n0                                                NaN   \n1  Anishenko Aleksandr <a.anishchenko@sawatzky.ru...   \n2  vandakurova@vtv-group.ru <vandakurova@vtv-grou...   \n3                                                NaN   \n4                                                NaN   \n\n                                             subject  \\\n0  Требуется Ваше согласование заявки на опл��ту ...   \n1                 Отчет БЦ Павловский 01.04.2022 г.    \n2                          PV изменение объема услуг   \n3  Требуется Ваше согласование электронной служеб...   \n4  Автоматический ответ: обновление модулей НТВ-ПЛЮС   \n\n                                                body  \\\n0                                                NaN   \n1  Уважаемые коллеги добрый день!Название объекта...   \n2  Роман добрый день!В связи с изменением конъюнк...   \n3                                                NaN   \n4  Уважаемый абонент!Благодарим Вас за обращение ...   \n\n                              date  \\\n0   Fri| 1 Apr 2022 10:07:02 +0300   \n1   Fri| 1 Apr 2022 06:52:22 +0000   \n2  Thu| 31 Mar 2022 12:11:02 +0000   \n3  Thu| 24 Mar 2022 14:15:12 +0300   \n4  Fri| 11 Feb 2022 09:52:00 +0000   \n\n                                               reply  references  \\\n0                                                NaN         NaN   \n1                                                NaN         NaN   \n2                                                NaN         NaN   \n3                                                NaN         NaN   \n4  <FCF221A88169C846A25ADF5C38FC168291DD1ECA@NTV-...         NaN   \n\n   body_special_chars  body_size  cc_count  from_count  to_count  \\\n0                   0          3         0           1         1   \n1                  75        933         2           1         2   \n2                  36        548         3           1         1   \n3                   0          3         0           1         1   \n4                  18        378         0           1         1   \n\n   numbers_in_subject  subject_size  subject_special_chars  \n0                  10            66                      6  \n1                   8            34                      3  \n2                   0            25                      0  \n3                   9            86                      5  \n4                   0            49                      2  ",
      "text/html": "<div>\n<style scoped>\n    .dataframe tbody tr th:only-of-type {\n        vertical-align: middle;\n    }\n\n    .dataframe tbody tr th {\n        vertical-align: top;\n    }\n\n    .dataframe thead th {\n        text-align: right;\n    }\n</style>\n<table border=\"1\" class=\"dataframe\">\n  <thead>\n    <tr style=\"text-align: right;\">\n      <th></th>\n      <th>id</th>\n      <th>from</th>\n      <th>to</th>\n      <th>cc</th>\n      <th>subject</th>\n      <th>body</th>\n      <th>date</th>\n      <th>reply</th>\n      <th>references</th>\n      <th>body_special_chars</th>\n      <th>body_size</th>\n      <th>cc_count</th>\n      <th>from_count</th>\n      <th>to_count</th>\n      <th>numbers_in_subject</th>\n      <th>subject_size</th>\n      <th>subject_special_chars</th>\n    </tr>\n  </thead>\n  <tbody>\n    <tr>\n      <th>0</th>\n      <td>1</td>\n      <td>&lt;docs@sawatzky.ru&gt;</td>\n      <td>&lt;a.anishchenko@sawatzky.ru&gt;</td>\n      <td>NaN</td>\n      <td>Требуется Ваше согласование заявки на опл��ту ...</td>\n      <td>NaN</td>\n      <td>Fri| 1 Apr 2022 10:07:02 +0300</td>\n      <td>NaN</td>\n      <td>NaN</td>\n      <td>0</td>\n      <td>3</td>\n      <td>0</td>\n      <td>1</td>\n      <td>1</td>\n      <td>10</td>\n      <td>66</td>\n      <td>6</td>\n    </tr>\n    <tr>\n      <th>1</th>\n      <td>2</td>\n      <td>Gorbey Viacheslav &lt;v.gorbey@sawatzky.ru&gt;</td>\n      <td>Kulakov Dmitry &lt;dk@sawatzky.ru&gt;| Kalinovsky Ro...</td>\n      <td>Anishenko Aleksandr &lt;a.anishchenko@sawatzky.ru...</td>\n      <td>Отчет БЦ Павловский 01.04.2022 г.</td>\n      <td>Уважаемые коллеги добрый день!Название объекта...</td>\n      <td>Fri| 1 Apr 2022 06:52:22 +0000</td>\n      <td>NaN</td>\n      <td>NaN</td>\n      <td>75</td>\n      <td>933</td>\n      <td>2</td>\n      <td>1</td>\n      <td>2</td>\n      <td>8</td>\n      <td>34</td>\n      <td>3</td>\n    </tr>\n    <tr>\n      <th>2</th>\n      <td>3</td>\n      <td>Gorbey Viacheslav &lt;v.gorbey@sawatzky.ru&gt;</td>\n      <td>Roman Vinogradov VTV GROUP LLC &lt;vinogradov@vtv...</td>\n      <td>vandakurova@vtv-group.ru &lt;vandakurova@vtv-grou...</td>\n      <td>PV изменение объема услуг</td>\n      <td>Роман добрый день!В связи с изменением конъюнк...</td>\n      <td>Thu| 31 Mar 2022 12:11:02 +0000</td>\n      <td>NaN</td>\n      <td>NaN</td>\n      <td>36</td>\n      <td>548</td>\n      <td>3</td>\n      <td>1</td>\n      <td>1</td>\n      <td>0</td>\n      <td>25</td>\n      <td>0</td>\n    </tr>\n    <tr>\n      <th>3</th>\n      <td>4</td>\n      <td>&lt;docs@sawatzky.ru&gt;</td>\n      <td>&lt;a.anishchenko@sawatzky.ru&gt;</td>\n      <td>NaN</td>\n      <td>Требуется Ваше согласование электронной служеб...</td>\n      <td>NaN</td>\n      <td>Thu| 24 Mar 2022 14:15:12 +0300</td>\n      <td>NaN</td>\n      <td>NaN</td>\n      <td>0</td>\n      <td>3</td>\n      <td>0</td>\n      <td>1</td>\n      <td>1</td>\n      <td>9</td>\n      <td>86</td>\n      <td>5</td>\n    </tr>\n    <tr>\n      <th>4</th>\n      <td>5</td>\n      <td>corp.autoreply@ntvplus.com &lt;corp.autoreply@ntv...</td>\n      <td>Anishenko Aleksandr &lt;a.anishchenko@sawatzky.ru&gt;</td>\n      <td>NaN</td>\n      <td>Автоматический ответ: обновление модулей НТВ-ПЛЮС</td>\n      <td>Уважаемый абонент!Благодарим Вас за обращение ...</td>\n      <td>Fri| 11 Feb 2022 09:52:00 +0000</td>\n      <td>&lt;FCF221A88169C846A25ADF5C38FC168291DD1ECA@NTV-...</td>\n      <td>NaN</td>\n      <td>18</td>\n      <td>378</td>\n      <td>0</td>\n      <td>1</td>\n      <td>1</td>\n      <td>0</td>\n      <td>49</td>\n      <td>2</td>\n    </tr>\n  </tbody>\n</table>\n</div>"
     },
     "execution_count": 117,
     "metadata": {},
     "output_type": "execute_result"
    }
   ],
   "source": [
    "df[\"subject_special_chars\"] = ''\n",
    "\n",
    "def count_special_chars(row):\n",
    "    return sum((not c.isdigit() and not c.isalpha() and not c.isspace()) for c in str(row[\"subject\"]))\n",
    "\n",
    "df[\"subject_special_chars\"] = df.apply(lambda row: count_special_chars(row), axis=1)\n",
    "\n",
    "df.head()"
   ]
  },
  {
   "cell_type": "code",
   "execution_count": 118,
   "metadata": {
    "pycharm": {
     "name": "#%%\n"
    }
   },
   "outputs": [
    {
     "data": {
      "text/plain": "   body_size  cc_count  numbers_in_subject  from_count  to_count  \\\n0          3         0                  10           1         1   \n1        933         2                   8           1         2   \n2        548         3                   0           1         1   \n3          3         0                   9           1         1   \n4        378         0                   0           1         1   \n\n   subject_size  subject_special_chars  body_special_chars  \n0            66                      6                   0  \n1            34                      3                  75  \n2            25                      0                  36  \n3            86                      5                   0  \n4            49                      2                  18  ",
      "text/html": "<div>\n<style scoped>\n    .dataframe tbody tr th:only-of-type {\n        vertical-align: middle;\n    }\n\n    .dataframe tbody tr th {\n        vertical-align: top;\n    }\n\n    .dataframe thead th {\n        text-align: right;\n    }\n</style>\n<table border=\"1\" class=\"dataframe\">\n  <thead>\n    <tr style=\"text-align: right;\">\n      <th></th>\n      <th>body_size</th>\n      <th>cc_count</th>\n      <th>numbers_in_subject</th>\n      <th>from_count</th>\n      <th>to_count</th>\n      <th>subject_size</th>\n      <th>subject_special_chars</th>\n      <th>body_special_chars</th>\n    </tr>\n  </thead>\n  <tbody>\n    <tr>\n      <th>0</th>\n      <td>3</td>\n      <td>0</td>\n      <td>10</td>\n      <td>1</td>\n      <td>1</td>\n      <td>66</td>\n      <td>6</td>\n      <td>0</td>\n    </tr>\n    <tr>\n      <th>1</th>\n      <td>933</td>\n      <td>2</td>\n      <td>8</td>\n      <td>1</td>\n      <td>2</td>\n      <td>34</td>\n      <td>3</td>\n      <td>75</td>\n    </tr>\n    <tr>\n      <th>2</th>\n      <td>548</td>\n      <td>3</td>\n      <td>0</td>\n      <td>1</td>\n      <td>1</td>\n      <td>25</td>\n      <td>0</td>\n      <td>36</td>\n    </tr>\n    <tr>\n      <th>3</th>\n      <td>3</td>\n      <td>0</td>\n      <td>9</td>\n      <td>1</td>\n      <td>1</td>\n      <td>86</td>\n      <td>5</td>\n      <td>0</td>\n    </tr>\n    <tr>\n      <th>4</th>\n      <td>378</td>\n      <td>0</td>\n      <td>0</td>\n      <td>1</td>\n      <td>1</td>\n      <td>49</td>\n      <td>2</td>\n      <td>18</td>\n    </tr>\n  </tbody>\n</table>\n</div>"
     },
     "execution_count": 118,
     "metadata": {},
     "output_type": "execute_result"
    }
   ],
   "source": [
    "###we extract and normalize numerical features\n",
    "numerical_features = df[[\"body_size\",\"cc_count\", \"numbers_in_subject\", \"from_count\",\"to_count\",\"subject_size\", \"subject_special_chars\", \"body_special_chars\"]]\n",
    "numerical_features.head()"
   ]
  },
  {
   "cell_type": "markdown",
   "source": [
    "### We normalize the data to fit a Kmeans model"
   ],
   "metadata": {
    "collapsed": false,
    "pycharm": {
     "name": "#%% md\n"
    }
   }
  },
  {
   "cell_type": "code",
   "execution_count": 119,
   "metadata": {
    "pycharm": {
     "name": "#%%\n"
    }
   },
   "outputs": [
    {
     "data": {
      "text/plain": "   body_size  cc_count  numbers_in_subject  from_count  to_count  \\\n0  -0.034547 -0.016207            0.237772   -0.001599 -0.002220   \n1  -0.022073  0.005771            0.175272   -0.001599 -0.001324   \n2  -0.027237  0.016760           -0.074728   -0.001599 -0.002220   \n3  -0.034547 -0.016207            0.206522   -0.001599 -0.002220   \n4  -0.029517 -0.016207           -0.074728   -0.001599 -0.002220   \n\n   subject_size  subject_special_chars  body_special_chars  \n0      0.168855               0.318284           -0.031721  \n1     -0.009916               0.087515           -0.022733  \n2     -0.060195              -0.143255           -0.027407  \n3      0.280587               0.241361           -0.031721  \n4      0.073883               0.010592           -0.029564  ",
      "text/html": "<div>\n<style scoped>\n    .dataframe tbody tr th:only-of-type {\n        vertical-align: middle;\n    }\n\n    .dataframe tbody tr th {\n        vertical-align: top;\n    }\n\n    .dataframe thead th {\n        text-align: right;\n    }\n</style>\n<table border=\"1\" class=\"dataframe\">\n  <thead>\n    <tr style=\"text-align: right;\">\n      <th></th>\n      <th>body_size</th>\n      <th>cc_count</th>\n      <th>numbers_in_subject</th>\n      <th>from_count</th>\n      <th>to_count</th>\n      <th>subject_size</th>\n      <th>subject_special_chars</th>\n      <th>body_special_chars</th>\n    </tr>\n  </thead>\n  <tbody>\n    <tr>\n      <th>0</th>\n      <td>-0.034547</td>\n      <td>-0.016207</td>\n      <td>0.237772</td>\n      <td>-0.001599</td>\n      <td>-0.002220</td>\n      <td>0.168855</td>\n      <td>0.318284</td>\n      <td>-0.031721</td>\n    </tr>\n    <tr>\n      <th>1</th>\n      <td>-0.022073</td>\n      <td>0.005771</td>\n      <td>0.175272</td>\n      <td>-0.001599</td>\n      <td>-0.001324</td>\n      <td>-0.009916</td>\n      <td>0.087515</td>\n      <td>-0.022733</td>\n    </tr>\n    <tr>\n      <th>2</th>\n      <td>-0.027237</td>\n      <td>0.016760</td>\n      <td>-0.074728</td>\n      <td>-0.001599</td>\n      <td>-0.002220</td>\n      <td>-0.060195</td>\n      <td>-0.143255</td>\n      <td>-0.027407</td>\n    </tr>\n    <tr>\n      <th>3</th>\n      <td>-0.034547</td>\n      <td>-0.016207</td>\n      <td>0.206522</td>\n      <td>-0.001599</td>\n      <td>-0.002220</td>\n      <td>0.280587</td>\n      <td>0.241361</td>\n      <td>-0.031721</td>\n    </tr>\n    <tr>\n      <th>4</th>\n      <td>-0.029517</td>\n      <td>-0.016207</td>\n      <td>-0.074728</td>\n      <td>-0.001599</td>\n      <td>-0.002220</td>\n      <td>0.073883</td>\n      <td>0.010592</td>\n      <td>-0.029564</td>\n    </tr>\n  </tbody>\n</table>\n</div>"
     },
     "execution_count": 119,
     "metadata": {},
     "output_type": "execute_result"
    }
   ],
   "source": [
    "numerical_features = (numerical_features - numerical_features.mean()) / (numerical_features.max() - numerical_features.min())\n",
    "numerical_features.head()"
   ]
  },
  {
   "cell_type": "markdown",
   "metadata": {
    "pycharm": {
     "name": "#%% md\n"
    }
   },
   "source": [
    "### We use a kmeans model to clusterize our mails, trying from 2 to 5 clusters"
   ]
  },
  {
   "cell_type": "code",
   "execution_count": 120,
   "outputs": [
    {
     "name": "stdout",
     "output_type": "stream",
     "text": [
      "2 0.5403374190422666\n",
      "3 0.38260960549162476\n",
      "4 0.42529670345944115\n"
     ]
    }
   ],
   "source": [
    "from sklearn.cluster import KMeans\n",
    "from sklearn import metrics\n",
    "\n",
    "def clustering_algorithm(n_clusters, dataset):\n",
    "    kmeans = KMeans(n_clusters=n_clusters, n_init=10, max_iter=300)\n",
    "    labels = kmeans.fit_predict(dataset)\n",
    "    silhouette = metrics.silhouette_score(dataset, labels, metric='euclidean')\n",
    "    return silhouette\n",
    "\n",
    "for i in range(2, 5):\n",
    "    silhouette = clustering_algorithm(i, numerical_features)\n",
    "    print(i, silhouette)\n",
    "\n",
    "#The best score is obtained for 2 clusters"
   ],
   "metadata": {
    "collapsed": false,
    "pycharm": {
     "name": "#%%\n"
    }
   }
  },
  {
   "cell_type": "code",
   "execution_count": 121,
   "metadata": {
    "pycharm": {
     "name": "#%%\n"
    }
   },
   "outputs": [
    {
     "name": "stdout",
     "output_type": "stream",
     "text": [
      "0.09780890782852719\n",
      "0.5403374190422666\n"
     ]
    }
   ],
   "source": [
    "#The best result is obtained for 2 clusters we use the silhouette metric to measure it\n",
    "#We can evaluate our model by evaluating it versus random data\n",
    "\n",
    "random_data = np.random.rand(167,9)\n",
    "silhouette_random = clustering_algorithm(2, random_data)\n",
    "silhouette = clustering_algorithm(2, numerical_features)\n",
    "\n",
    "print(silhouette_random)\n",
    "print(silhouette)"
   ]
  },
  {
   "cell_type": "code",
   "execution_count": 122,
   "metadata": {
    "pycharm": {
     "name": "#%%\n"
    }
   },
   "outputs": [
    {
     "data": {
      "text/plain": "<seaborn.axisgrid.FacetGrid at 0x283d0b486d0>"
     },
     "execution_count": 122,
     "metadata": {},
     "output_type": "execute_result"
    },
    {
     "data": {
      "text/plain": "<Figure size 500x500 with 1 Axes>",
      "image/png": "[encoded data removed]"
     },
     "metadata": {},
     "output_type": "display_data"
    }
   ],
   "source": [
    "import seaborn as sns\n",
    "kmeans = KMeans(n_clusters=2, n_init=10, max_iter=300)\n",
    "y_pred = kmeans.fit_predict(numerical_features)\n",
    "labels = kmeans.labels_\n",
    "\n",
    "df['labels'] = labels\n",
    "sns.catplot(x='labels', kind='count', data=df)\n"
   ]
  },
  {
   "cell_type": "code",
   "execution_count": 123,
   "metadata": {
    "pycharm": {
     "name": "#%%\n"
    }
   },
   "outputs": [
    {
     "name": "stdout",
     "output_type": "stream",
     "text": [
      "body_size \n",
      "0.0000\n",
      "cc_count \n",
      "0.0000\n",
      "numbers_in_subject \n",
      "0.0153\n",
      "from_count \n",
      "0.0000\n",
      "to_count \n",
      "0.0000\n",
      "subject_size \n",
      "0.0153\n",
      "subject_special_chars \n",
      "0.0281\n",
      "body_special_chars \n",
      "0.0001\n"
     ]
    }
   ],
   "source": [
    "centroids = kmeans.cluster_centers_\n",
    "for i in range(len(centroids[0])):\n",
    "    print(numerical_features.columns.values[i],\"\\n{:.4f}\".format(centroids[:, i].var()))"
   ]
  },
  {
   "cell_type": "markdown",
   "metadata": {
    "pycharm": {
     "name": "#%% md\n"
    }
   },
   "source": [
    "#### the most used features seems to be the number of special characters and the number of numerical characters in the subject"
   ]
  },
  {
   "cell_type": "code",
   "execution_count": 124,
   "outputs": [],
   "source": [
    "df_0 = df[df['labels'] == 0]\n",
    "df_1 = df[df['labels'] == 1]"
   ],
   "metadata": {
    "collapsed": false,
    "pycharm": {
     "name": "#%%\n"
    }
   }
  },
  {
   "cell_type": "markdown",
   "metadata": {
    "pycharm": {
     "name": "#%% md\n"
    }
   },
   "source": [
    "# We visualize how well the model separates the data in 2 clusters"
   ]
  },
  {
   "cell_type": "code",
   "execution_count": 125,
   "outputs": [
    {
     "data": {
      "text/plain": "<function matplotlib.pyplot.show(close=None, block=None)>"
     },
     "execution_count": 125,
     "metadata": {},
     "output_type": "execute_result"
    },
    {
     "data": {
      "text/plain": "<Figure size 800x800 with 1 Axes>",
      "image/png": "[encoded data removed]"
     },
     "metadata": {},
     "output_type": "display_data"
    }
   ],
   "source": [
    "plt.figure(figsize=(8, 8))\n",
    "plt.scatter(df_0['subject_special_chars'], df_0['numbers_in_subject'], c='blue', s=10, label='A')\n",
    "plt.scatter(df_1['subject_special_chars'], df_1['numbers_in_subject'], c='red', s=10, label='B')\n",
    "plt.xlabel('subject special chars')\n",
    "plt.ylabel('number characters in subject')\n",
    "plt.legend()\n",
    "plt.show"
   ],
   "metadata": {
    "collapsed": false,
    "pycharm": {
     "name": "#%%\n"
    }
   }
  },
  {
   "cell_type": "code",
   "execution_count": 126,
   "metadata": {
    "pycharm": {
     "name": "#%%\n"
    }
   },
   "outputs": [
    {
     "data": {
      "text/plain": "<function matplotlib.pyplot.show(close=None, block=None)>"
     },
     "execution_count": 126,
     "metadata": {},
     "output_type": "execute_result"
    },
    {
     "data": {
      "text/plain": "<Figure size 800x800 with 1 Axes>",
      "image/png": "[encoded data removed]"
     },
     "metadata": {},
     "output_type": "display_data"
    }
   ],
   "source": [
    "plt.figure(figsize=(8, 8))\n",
    "plt.scatter(df_0['subject_special_chars'], df_0['body_special_chars'], c='blue', s=10, label='A')\n",
    "plt.scatter(df_1['subject_special_chars'], df_1['body_special_chars'], c='red', s=10, label='B')\n",
    "plt.xlabel('subject number of special chars')\n",
    "plt.ylabel('body special chars')\n",
    "plt.legend()\n",
    "plt.show"
   ]
  },
  {
   "cell_type": "markdown",
   "source": [
    "## Conclusion\n",
    "\n",
    "In this notebook we exploited the csv file of a dataset of mail, we manufactured some numerical features that we judged useful\n",
    "and tried to separate the data with a kmeans clustering model. The separation seams to work and we identified some features that separates\n",
    "the dataset better.\n",
    "In the next notebook we will validate our hypothesis that this features can identify  phishing email with classic supervised learning algorithms"
   ],
   "metadata": {
    "collapsed": false,
    "pycharm": {
     "name": "#%% md\n"
    }
   }
  }
 ],
 "metadata": {
  "kernelspec": {
   "display_name": "Python 3 (ipykernel)",
   "language": "python",
   "name": "python3"
  },
  "language_info": {
   "codemirror_mode": {
    "name": "ipython",
    "version": 3
   },
   "file_extension": ".py",
   "mimetype": "text/x-python",
   "name": "python",
   "nbconvert_exporter": "python",
   "pygments_lexer": "ipython3",
   "version": "3.9.5"
  }
 },
 "nbformat": 4,
 "nbformat_minor": 1
}