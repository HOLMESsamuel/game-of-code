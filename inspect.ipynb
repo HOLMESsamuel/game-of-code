{
 "cells": [
  {
   "cell_type": "code",
   "execution_count": 93,
   "metadata": {
    "collapsed": true
   },
   "outputs": [],
   "source": [
    "import pandas as pd\n",
    "import matplotlib.pyplot as plt"
   ]
  },
  {
   "cell_type": "code",
   "execution_count": 94,
   "outputs": [
    {
     "name": "stdout",
     "output_type": "stream",
     "text": [
      "(220418, 5)\n",
      "(237924, 5)\n",
      "(19698, 5)\n",
      "(19625, 5)\n"
     ]
    }
   ],
   "source": [
    "attributes_1 = pd.read_csv(\"_Spambee_Attributes__2022-04.csv\")\n",
    "attributes_2 = pd.read_csv(\"_Spambee_Attributes__2022-05.csv\")\n",
    "events_1 = pd.read_csv(\"_Spambee_Events__2022-04.csv\")\n",
    "events_2 = pd.read_csv(\"_Spambee_Events__2022-05.csv\")\n",
    "print(attributes_1.shape)\n",
    "print(attributes_2.shape)\n",
    "print(events_1.shape)\n",
    "print(events_2.shape)\n"
   ],
   "metadata": {
    "collapsed": false,
    "pycharm": {
     "name": "#%%\n"
    }
   }
  },
  {
   "cell_type": "code",
   "execution_count": 95,
   "outputs": [
    {
     "data": {
      "text/plain": "(220418, 5)"
     },
     "execution_count": 95,
     "metadata": {},
     "output_type": "execute_result"
    }
   ],
   "source": [
    "attributes_1.shape"
   ],
   "metadata": {
    "collapsed": false,
    "pycharm": {
     "name": "#%%\n"
    }
   }
  },
  {
   "cell_type": "code",
   "execution_count": 96,
   "outputs": [
    {
     "data": {
      "text/plain": "    index        id  event_id object_relation       value\n0  237925  24343875    287976            host     x247.de\n1  237926  24343882    287976            host     ehst.sv\n2  237927  24366311    288271            host  s.yimg.com\n3  237928  24377781    288308            host   kwargs.id\n4  237929  24395185    288499            host   imgbb.com",
      "text/html": "<div>\n<style scoped>\n    .dataframe tbody tr th:only-of-type {\n        vertical-align: middle;\n    }\n\n    .dataframe tbody tr th {\n        vertical-align: top;\n    }\n\n    .dataframe thead th {\n        text-align: right;\n    }\n</style>\n<table border=\"1\" class=\"dataframe\">\n  <thead>\n    <tr style=\"text-align: right;\">\n      <th></th>\n      <th>index</th>\n      <th>id</th>\n      <th>event_id</th>\n      <th>object_relation</th>\n      <th>value</th>\n    </tr>\n  </thead>\n  <tbody>\n    <tr>\n      <th>0</th>\n      <td>237925</td>\n      <td>24343875</td>\n      <td>287976</td>\n      <td>host</td>\n      <td>x247.de</td>\n    </tr>\n    <tr>\n      <th>1</th>\n      <td>237926</td>\n      <td>24343882</td>\n      <td>287976</td>\n      <td>host</td>\n      <td>ehst.sv</td>\n    </tr>\n    <tr>\n      <th>2</th>\n      <td>237927</td>\n      <td>24366311</td>\n      <td>288271</td>\n      <td>host</td>\n      <td>s.yimg.com</td>\n    </tr>\n    <tr>\n      <th>3</th>\n      <td>237928</td>\n      <td>24377781</td>\n      <td>288308</td>\n      <td>host</td>\n      <td>kwargs.id</td>\n    </tr>\n    <tr>\n      <th>4</th>\n      <td>237929</td>\n      <td>24395185</td>\n      <td>288499</td>\n      <td>host</td>\n      <td>imgbb.com</td>\n    </tr>\n  </tbody>\n</table>\n</div>"
     },
     "execution_count": 96,
     "metadata": {},
     "output_type": "execute_result"
    }
   ],
   "source": [
    "attributes_1.head()\n"
   ],
   "metadata": {
    "collapsed": false,
    "pycharm": {
     "name": "#%%\n"
    }
   }
  },
  {
   "cell_type": "code",
   "execution_count": 97,
   "outputs": [
    {
     "data": {
      "text/plain": "         index        id  event_id object_relation                      value\n220413  330467  25059734    295947            host  news.la-chasseauxdeals.fr\n220414  330468  25059742    295947            host  news.la-chasseauxdeals.fr\n220415  330469  25059750    295947            host  news.la-chasseauxdeals.fr\n220416  330470  25059758    295947            host  news.la-chasseauxdeals.fr\n220417  330471  25059766    295947            host  news.la-chasseauxdeals.fr",
      "text/html": "<div>\n<style scoped>\n    .dataframe tbody tr th:only-of-type {\n        vertical-align: middle;\n    }\n\n    .dataframe tbody tr th {\n        vertical-align: top;\n    }\n\n    .dataframe thead th {\n        text-align: right;\n    }\n</style>\n<table border=\"1\" class=\"dataframe\">\n  <thead>\n    <tr style=\"text-align: right;\">\n      <th></th>\n      <th>index</th>\n      <th>id</th>\n      <th>event_id</th>\n      <th>object_relation</th>\n      <th>value</th>\n    </tr>\n  </thead>\n  <tbody>\n    <tr>\n      <th>220413</th>\n      <td>330467</td>\n      <td>25059734</td>\n      <td>295947</td>\n      <td>host</td>\n      <td>news.la-chasseauxdeals.fr</td>\n    </tr>\n    <tr>\n      <th>220414</th>\n      <td>330468</td>\n      <td>25059742</td>\n      <td>295947</td>\n      <td>host</td>\n      <td>news.la-chasseauxdeals.fr</td>\n    </tr>\n    <tr>\n      <th>220415</th>\n      <td>330469</td>\n      <td>25059750</td>\n      <td>295947</td>\n      <td>host</td>\n      <td>news.la-chasseauxdeals.fr</td>\n    </tr>\n    <tr>\n      <th>220416</th>\n      <td>330470</td>\n      <td>25059758</td>\n      <td>295947</td>\n      <td>host</td>\n      <td>news.la-chasseauxdeals.fr</td>\n    </tr>\n    <tr>\n      <th>220417</th>\n      <td>330471</td>\n      <td>25059766</td>\n      <td>295947</td>\n      <td>host</td>\n      <td>news.la-chasseauxdeals.fr</td>\n    </tr>\n  </tbody>\n</table>\n</div>"
     },
     "execution_count": 97,
     "metadata": {},
     "output_type": "execute_result"
    }
   ],
   "source": [
    "attributes_1.tail()"
   ],
   "metadata": {
    "collapsed": false,
    "pycharm": {
     "name": "#%%\n"
    }
   }
  },
  {
   "cell_type": "code",
   "execution_count": 98,
   "outputs": [
    {
     "data": {
      "text/plain": "   index        id  event_id object_relation       value\n0      0  27623361    324128            host  s.yimg.com\n1      1  27628816    324192            host     r.style\n2      2  27628823    324192            host      r.name\n3      3  27630538    324195            host     o.style\n4      4  27630545    324195            host      o.name",
      "text/html": "<div>\n<style scoped>\n    .dataframe tbody tr th:only-of-type {\n        vertical-align: middle;\n    }\n\n    .dataframe tbody tr th {\n        vertical-align: top;\n    }\n\n    .dataframe thead th {\n        text-align: right;\n    }\n</style>\n<table border=\"1\" class=\"dataframe\">\n  <thead>\n    <tr style=\"text-align: right;\">\n      <th></th>\n      <th>index</th>\n      <th>id</th>\n      <th>event_id</th>\n      <th>object_relation</th>\n      <th>value</th>\n    </tr>\n  </thead>\n  <tbody>\n    <tr>\n      <th>0</th>\n      <td>0</td>\n      <td>27623361</td>\n      <td>324128</td>\n      <td>host</td>\n      <td>s.yimg.com</td>\n    </tr>\n    <tr>\n      <th>1</th>\n      <td>1</td>\n      <td>27628816</td>\n      <td>324192</td>\n      <td>host</td>\n      <td>r.style</td>\n    </tr>\n    <tr>\n      <th>2</th>\n      <td>2</td>\n      <td>27628823</td>\n      <td>324192</td>\n      <td>host</td>\n      <td>r.name</td>\n    </tr>\n    <tr>\n      <th>3</th>\n      <td>3</td>\n      <td>27630538</td>\n      <td>324195</td>\n      <td>host</td>\n      <td>o.style</td>\n    </tr>\n    <tr>\n      <th>4</th>\n      <td>4</td>\n      <td>27630545</td>\n      <td>324195</td>\n      <td>host</td>\n      <td>o.name</td>\n    </tr>\n  </tbody>\n</table>\n</div>"
     },
     "execution_count": 98,
     "metadata": {},
     "output_type": "execute_result"
    }
   ],
   "source": [
    "attributes_2.head()"
   ],
   "metadata": {
    "collapsed": false,
    "pycharm": {
     "name": "#%%\n"
    }
   }
  },
  {
   "cell_type": "code",
   "execution_count": 99,
   "outputs": [
    {
     "data": {
      "text/plain": "   index      id        date  attribute_count       Tag\n0  19625  287833  2022-04-01               28      None\n1  19626  287834  2022-04-01               79      None\n2  19627  287835  2022-04-01               89  Phishing\n3  19628  287836  2022-04-01              159  Phishing\n4  19629  287837  2022-04-01               62      None",
      "text/html": "<div>\n<style scoped>\n    .dataframe tbody tr th:only-of-type {\n        vertical-align: middle;\n    }\n\n    .dataframe tbody tr th {\n        vertical-align: top;\n    }\n\n    .dataframe thead th {\n        text-align: right;\n    }\n</style>\n<table border=\"1\" class=\"dataframe\">\n  <thead>\n    <tr style=\"text-align: right;\">\n      <th></th>\n      <th>index</th>\n      <th>id</th>\n      <th>date</th>\n      <th>attribute_count</th>\n      <th>Tag</th>\n    </tr>\n  </thead>\n  <tbody>\n    <tr>\n      <th>0</th>\n      <td>19625</td>\n      <td>287833</td>\n      <td>2022-04-01</td>\n      <td>28</td>\n      <td>None</td>\n    </tr>\n    <tr>\n      <th>1</th>\n      <td>19626</td>\n      <td>287834</td>\n      <td>2022-04-01</td>\n      <td>79</td>\n      <td>None</td>\n    </tr>\n    <tr>\n      <th>2</th>\n      <td>19627</td>\n      <td>287835</td>\n      <td>2022-04-01</td>\n      <td>89</td>\n      <td>Phishing</td>\n    </tr>\n    <tr>\n      <th>3</th>\n      <td>19628</td>\n      <td>287836</td>\n      <td>2022-04-01</td>\n      <td>159</td>\n      <td>Phishing</td>\n    </tr>\n    <tr>\n      <th>4</th>\n      <td>19629</td>\n      <td>287837</td>\n      <td>2022-04-01</td>\n      <td>62</td>\n      <td>None</td>\n    </tr>\n  </tbody>\n</table>\n</div>"
     },
     "execution_count": 99,
     "metadata": {},
     "output_type": "execute_result"
    }
   ],
   "source": [
    "events_1.head()"
   ],
   "metadata": {
    "collapsed": false,
    "pycharm": {
     "name": "#%%\n"
    }
   }
  },
  {
   "cell_type": "code",
   "execution_count": 100,
   "outputs": [
    {
     "data": {
      "text/plain": "   index      id        date  attribute_count       Tag\n0      0  307749  2022-05-01               36  Phishing\n1      1  307750  2022-05-01              126      None\n2      2  307751  2022-05-01               20      None\n3      3  307752  2022-05-01               18      None\n4      4  307753  2022-05-01               55      None",
      "text/html": "<div>\n<style scoped>\n    .dataframe tbody tr th:only-of-type {\n        vertical-align: middle;\n    }\n\n    .dataframe tbody tr th {\n        vertical-align: top;\n    }\n\n    .dataframe thead th {\n        text-align: right;\n    }\n</style>\n<table border=\"1\" class=\"dataframe\">\n  <thead>\n    <tr style=\"text-align: right;\">\n      <th></th>\n      <th>index</th>\n      <th>id</th>\n      <th>date</th>\n      <th>attribute_count</th>\n      <th>Tag</th>\n    </tr>\n  </thead>\n  <tbody>\n    <tr>\n      <th>0</th>\n      <td>0</td>\n      <td>307749</td>\n      <td>2022-05-01</td>\n      <td>36</td>\n      <td>Phishing</td>\n    </tr>\n    <tr>\n      <th>1</th>\n      <td>1</td>\n      <td>307750</td>\n      <td>2022-05-01</td>\n      <td>126</td>\n      <td>None</td>\n    </tr>\n    <tr>\n      <th>2</th>\n      <td>2</td>\n      <td>307751</td>\n      <td>2022-05-01</td>\n      <td>20</td>\n      <td>None</td>\n    </tr>\n    <tr>\n      <th>3</th>\n      <td>3</td>\n      <td>307752</td>\n      <td>2022-05-01</td>\n      <td>18</td>\n      <td>None</td>\n    </tr>\n    <tr>\n      <th>4</th>\n      <td>4</td>\n      <td>307753</td>\n      <td>2022-05-01</td>\n      <td>55</td>\n      <td>None</td>\n    </tr>\n  </tbody>\n</table>\n</div>"
     },
     "execution_count": 100,
     "metadata": {},
     "output_type": "execute_result"
    }
   ],
   "source": [
    "events_2.head()"
   ],
   "metadata": {
    "collapsed": false,
    "pycharm": {
     "name": "#%%\n"
    }
   }
  },
  {
   "cell_type": "code",
   "execution_count": 101,
   "outputs": [
    {
     "data": {
      "text/plain": "index              0.0\nid                 0.0\ndate               0.0\nattribute_count    0.0\nTag                0.0\ndtype: float64"
     },
     "execution_count": 101,
     "metadata": {},
     "output_type": "execute_result"
    }
   ],
   "source": [
    "round(events_2.isnull().sum()*100/events_2.shape[0],2).sort_values(ascending=False).head(20)\n",
    "#il n'y a pas de valeur nulle dans aucun des datasets"
   ],
   "metadata": {
    "collapsed": false,
    "pycharm": {
     "name": "#%%\n"
    }
   }
  },
  {
   "cell_type": "code",
   "execution_count": 102,
   "outputs": [
    {
     "data": {
      "text/plain": "<AxesSubplot:>"
     },
     "execution_count": 102,
     "metadata": {},
     "output_type": "execute_result"
    },
    {
     "data": {
      "text/plain": "<Figure size 432x288 with 1 Axes>",
      "image/png": "[encoded data removed]"
     },
     "metadata": {
      "needs_background": "light"
     },
     "output_type": "display_data"
    }
   ],
   "source": [
    "events_1[\"Tag\"].hist(bins=3)"
   ],
   "metadata": {
    "collapsed": false,
    "pycharm": {
     "name": "#%%\n"
    }
   }
  },
  {
   "cell_type": "code",
   "execution_count": 103,
   "outputs": [
    {
     "data": {
      "text/plain": "<AxesSubplot:>"
     },
     "execution_count": 103,
     "metadata": {},
     "output_type": "execute_result"
    },
    {
     "data": {
      "text/plain": "<Figure size 432x288 with 1 Axes>",
      "image/png": "[encoded data removed]"
     },
     "metadata": {
      "needs_background": "light"
     },
     "output_type": "display_data"
    }
   ],
   "source": [
    "events_2[\"Tag\"].hist(bins=3)"
   ],
   "metadata": {
    "collapsed": false,
    "pycharm": {
     "name": "#%%\n"
    }
   }
  },
  {
   "cell_type": "code",
   "execution_count": 104,
   "outputs": [
    {
     "data": {
      "text/plain": "array(['host', 'feedback_time', 'from', 'header'], dtype=object)"
     },
     "execution_count": 104,
     "metadata": {},
     "output_type": "execute_result"
    }
   ],
   "source": [
    "attributes_1[\"object_relation\"].unique()\n"
   ],
   "metadata": {
    "collapsed": false,
    "pycharm": {
     "name": "#%%\n"
    }
   }
  },
  {
   "cell_type": "code",
   "execution_count": 105,
   "outputs": [
    {
     "ename": "AttributeError",
     "evalue": "'Rectangle' object has no property 'bin'",
     "output_type": "error",
     "traceback": [
      "\u001B[1;31m---------------------------------------------------------------------------\u001B[0m",
      "\u001B[1;31mAttributeError\u001B[0m                            Traceback (most recent call last)",
      "Input \u001B[1;32mIn [105]\u001B[0m, in \u001B[0;36m<cell line: 1>\u001B[1;34m()\u001B[0m\n\u001B[1;32m----> 1\u001B[0m \u001B[43mattributes_1\u001B[49m\u001B[43m[\u001B[49m\u001B[38;5;124;43m\"\u001B[39;49m\u001B[38;5;124;43mobject_relation\u001B[39;49m\u001B[38;5;124;43m\"\u001B[39;49m\u001B[43m]\u001B[49m\u001B[38;5;241;43m.\u001B[39;49m\u001B[43mhist\u001B[49m\u001B[43m(\u001B[49m\u001B[38;5;28;43mbin\u001B[39;49m\u001B[38;5;241;43m=\u001B[39;49m\u001B[38;5;241;43m3\u001B[39;49m\u001B[43m)\u001B[49m\n",
      "File \u001B[1;32mc:\\users\\samuel\\pycharmprojects\\pythonproject\\venv\\lib\\site-packages\\pandas\\plotting\\_core.py:100\u001B[0m, in \u001B[0;36mhist_series\u001B[1;34m(self, by, ax, grid, xlabelsize, xrot, ylabelsize, yrot, figsize, bins, backend, legend, **kwargs)\u001B[0m\n\u001B[0;32m     48\u001B[0m \u001B[38;5;124;03m\"\"\"\u001B[39;00m\n\u001B[0;32m     49\u001B[0m \u001B[38;5;124;03mDraw histogram of the input series using matplotlib.\u001B[39;00m\n\u001B[0;32m     50\u001B[0m \n\u001B[1;32m   (...)\u001B[0m\n\u001B[0;32m     97\u001B[0m \u001B[38;5;124;03mmatplotlib.axes.Axes.hist : Plot a histogram using matplotlib.\u001B[39;00m\n\u001B[0;32m     98\u001B[0m \u001B[38;5;124;03m\"\"\"\u001B[39;00m\n\u001B[0;32m     99\u001B[0m plot_backend \u001B[38;5;241m=\u001B[39m _get_plot_backend(backend)\n\u001B[1;32m--> 100\u001B[0m \u001B[38;5;28;01mreturn\u001B[39;00m plot_backend\u001B[38;5;241m.\u001B[39mhist_series(\n\u001B[0;32m    101\u001B[0m     \u001B[38;5;28mself\u001B[39m,\n\u001B[0;32m    102\u001B[0m     by\u001B[38;5;241m=\u001B[39mby,\n\u001B[0;32m    103\u001B[0m     ax\u001B[38;5;241m=\u001B[39max,\n\u001B[0;32m    104\u001B[0m     grid\u001B[38;5;241m=\u001B[39mgrid,\n\u001B[0;32m    105\u001B[0m     xlabelsize\u001B[38;5;241m=\u001B[39mxlabelsize,\n\u001B[0;32m    106\u001B[0m     xrot\u001B[38;5;241m=\u001B[39mxrot,\n\u001B[0;32m    107\u001B[0m     ylabelsize\u001B[38;5;241m=\u001B[39mylabelsize,\n\u001B[0;32m    108\u001B[0m     yrot\u001B[38;5;241m=\u001B[39myrot,\n\u001B[0;32m    109\u001B[0m     figsize\u001B[38;5;241m=\u001B[39mfigsize,\n\u001B[0;32m    110\u001B[0m     bins\u001B[38;5;241m=\u001B[39mbins,\n\u001B[0;32m    111\u001B[0m     legend\u001B[38;5;241m=\u001B[39mlegend,\n\u001B[0;32m    112\u001B[0m     \u001B[38;5;241m*\u001B[39m\u001B[38;5;241m*\u001B[39mkwargs,\n\u001B[0;32m    113\u001B[0m )\n",
      "File \u001B[1;32mc:\\users\\samuel\\pycharmprojects\\pythonproject\\venv\\lib\\site-packages\\pandas\\plotting\\_matplotlib\\hist.py:391\u001B[0m, in \u001B[0;36mhist_series\u001B[1;34m(self, by, ax, grid, xlabelsize, xrot, ylabelsize, yrot, figsize, bins, legend, **kwds)\u001B[0m\n\u001B[0;32m    389\u001B[0m \u001B[38;5;28;01mif\u001B[39;00m legend:\n\u001B[0;32m    390\u001B[0m     kwds[\u001B[38;5;124m\"\u001B[39m\u001B[38;5;124mlabel\u001B[39m\u001B[38;5;124m\"\u001B[39m] \u001B[38;5;241m=\u001B[39m \u001B[38;5;28mself\u001B[39m\u001B[38;5;241m.\u001B[39mname\n\u001B[1;32m--> 391\u001B[0m ax\u001B[38;5;241m.\u001B[39mhist(values, bins\u001B[38;5;241m=\u001B[39mbins, \u001B[38;5;241m*\u001B[39m\u001B[38;5;241m*\u001B[39mkwds)\n\u001B[0;32m    392\u001B[0m \u001B[38;5;28;01mif\u001B[39;00m legend:\n\u001B[0;32m    393\u001B[0m     ax\u001B[38;5;241m.\u001B[39mlegend()\n",
      "File \u001B[1;32mc:\\users\\samuel\\pycharmprojects\\pythonproject\\venv\\lib\\site-packages\\matplotlib\\__init__.py:1412\u001B[0m, in \u001B[0;36m_preprocess_data.<locals>.inner\u001B[1;34m(ax, data, *args, **kwargs)\u001B[0m\n\u001B[0;32m   1409\u001B[0m \u001B[38;5;129m@functools\u001B[39m\u001B[38;5;241m.\u001B[39mwraps(func)\n\u001B[0;32m   1410\u001B[0m \u001B[38;5;28;01mdef\u001B[39;00m \u001B[38;5;21minner\u001B[39m(ax, \u001B[38;5;241m*\u001B[39margs, data\u001B[38;5;241m=\u001B[39m\u001B[38;5;28;01mNone\u001B[39;00m, \u001B[38;5;241m*\u001B[39m\u001B[38;5;241m*\u001B[39mkwargs):\n\u001B[0;32m   1411\u001B[0m     \u001B[38;5;28;01mif\u001B[39;00m data \u001B[38;5;129;01mis\u001B[39;00m \u001B[38;5;28;01mNone\u001B[39;00m:\n\u001B[1;32m-> 1412\u001B[0m         \u001B[38;5;28;01mreturn\u001B[39;00m func(ax, \u001B[38;5;241m*\u001B[39m\u001B[38;5;28mmap\u001B[39m(sanitize_sequence, args), \u001B[38;5;241m*\u001B[39m\u001B[38;5;241m*\u001B[39mkwargs)\n\u001B[0;32m   1414\u001B[0m     bound \u001B[38;5;241m=\u001B[39m new_sig\u001B[38;5;241m.\u001B[39mbind(ax, \u001B[38;5;241m*\u001B[39margs, \u001B[38;5;241m*\u001B[39m\u001B[38;5;241m*\u001B[39mkwargs)\n\u001B[0;32m   1415\u001B[0m     auto_label \u001B[38;5;241m=\u001B[39m (bound\u001B[38;5;241m.\u001B[39marguments\u001B[38;5;241m.\u001B[39mget(label_namer)\n\u001B[0;32m   1416\u001B[0m                   \u001B[38;5;129;01mor\u001B[39;00m bound\u001B[38;5;241m.\u001B[39mkwargs\u001B[38;5;241m.\u001B[39mget(label_namer))\n",
      "File \u001B[1;32mc:\\users\\samuel\\pycharmprojects\\pythonproject\\venv\\lib\\site-packages\\matplotlib\\axes\\_axes.py:6787\u001B[0m, in \u001B[0;36mAxes.hist\u001B[1;34m(self, x, bins, range, density, weights, cumulative, bottom, histtype, align, orientation, rwidth, log, color, label, stacked, **kwargs)\u001B[0m\n\u001B[0;32m   6785\u001B[0m \u001B[38;5;28;01mif\u001B[39;00m patch:\n\u001B[0;32m   6786\u001B[0m     p \u001B[38;5;241m=\u001B[39m patch[\u001B[38;5;241m0\u001B[39m]\n\u001B[1;32m-> 6787\u001B[0m     \u001B[43mp\u001B[49m\u001B[38;5;241;43m.\u001B[39;49m\u001B[43mupdate\u001B[49m\u001B[43m(\u001B[49m\u001B[43mkwargs\u001B[49m\u001B[43m)\u001B[49m\n\u001B[0;32m   6788\u001B[0m     \u001B[38;5;28;01mif\u001B[39;00m lbl \u001B[38;5;129;01mis\u001B[39;00m \u001B[38;5;129;01mnot\u001B[39;00m \u001B[38;5;28;01mNone\u001B[39;00m:\n\u001B[0;32m   6789\u001B[0m         p\u001B[38;5;241m.\u001B[39mset_label(lbl)\n",
      "File \u001B[1;32mc:\\users\\samuel\\pycharmprojects\\pythonproject\\venv\\lib\\site-packages\\matplotlib\\artist.py:1064\u001B[0m, in \u001B[0;36mArtist.update\u001B[1;34m(self, props)\u001B[0m\n\u001B[0;32m   1062\u001B[0m             func \u001B[38;5;241m=\u001B[39m \u001B[38;5;28mgetattr\u001B[39m(\u001B[38;5;28mself\u001B[39m, \u001B[38;5;124mf\u001B[39m\u001B[38;5;124m\"\u001B[39m\u001B[38;5;124mset_\u001B[39m\u001B[38;5;132;01m{\u001B[39;00mk\u001B[38;5;132;01m}\u001B[39;00m\u001B[38;5;124m\"\u001B[39m, \u001B[38;5;28;01mNone\u001B[39;00m)\n\u001B[0;32m   1063\u001B[0m             \u001B[38;5;28;01mif\u001B[39;00m \u001B[38;5;129;01mnot\u001B[39;00m callable(func):\n\u001B[1;32m-> 1064\u001B[0m                 \u001B[38;5;28;01mraise\u001B[39;00m \u001B[38;5;167;01mAttributeError\u001B[39;00m(\u001B[38;5;124mf\u001B[39m\u001B[38;5;124m\"\u001B[39m\u001B[38;5;132;01m{\u001B[39;00m\u001B[38;5;28mtype\u001B[39m(\u001B[38;5;28mself\u001B[39m)\u001B[38;5;241m.\u001B[39m\u001B[38;5;18m__name__\u001B[39m\u001B[38;5;132;01m!r}\u001B[39;00m\u001B[38;5;124m object \u001B[39m\u001B[38;5;124m\"\u001B[39m\n\u001B[0;32m   1065\u001B[0m                                      \u001B[38;5;124mf\u001B[39m\u001B[38;5;124m\"\u001B[39m\u001B[38;5;124mhas no property \u001B[39m\u001B[38;5;132;01m{\u001B[39;00mk\u001B[38;5;132;01m!r}\u001B[39;00m\u001B[38;5;124m\"\u001B[39m)\n\u001B[0;32m   1066\u001B[0m             ret\u001B[38;5;241m.\u001B[39mappend(func(v))\n\u001B[0;32m   1067\u001B[0m \u001B[38;5;28;01mif\u001B[39;00m ret:\n",
      "\u001B[1;31mAttributeError\u001B[0m: 'Rectangle' object has no property 'bin'"
     ]
    },
    {
     "data": {
      "text/plain": "<Figure size 432x288 with 1 Axes>",
      "image/png": "[encoded data removed]"
     },
     "metadata": {
      "needs_background": "light"
     },
     "output_type": "display_data"
    }
   ],
   "source": [
    "attributes_1[\"object_relation\"].hist(bin=3)"
   ],
   "metadata": {
    "collapsed": false,
    "pycharm": {
     "name": "#%%\n"
    }
   }
  },
  {
   "cell_type": "code",
   "execution_count": 107,
   "outputs": [
    {
     "data": {
      "text/plain": "   index      id        date  attribute_count Tag\n0  19625  287833  2022-04-01               28   0\n1  19626  287834  2022-04-01               79   0\n2  19627  287835  2022-04-01               89   1\n3  19628  287836  2022-04-01              159   1\n4  19629  287837  2022-04-01               62   0",
      "text/html": "<div>\n<style scoped>\n    .dataframe tbody tr th:only-of-type {\n        vertical-align: middle;\n    }\n\n    .dataframe tbody tr th {\n        vertical-align: top;\n    }\n\n    .dataframe thead th {\n        text-align: right;\n    }\n</style>\n<table border=\"1\" class=\"dataframe\">\n  <thead>\n    <tr style=\"text-align: right;\">\n      <th></th>\n      <th>index</th>\n      <th>id</th>\n      <th>date</th>\n      <th>attribute_count</th>\n      <th>Tag</th>\n    </tr>\n  </thead>\n  <tbody>\n    <tr>\n      <th>0</th>\n      <td>19625</td>\n      <td>287833</td>\n      <td>2022-04-01</td>\n      <td>28</td>\n      <td>0</td>\n    </tr>\n    <tr>\n      <th>1</th>\n      <td>19626</td>\n      <td>287834</td>\n      <td>2022-04-01</td>\n      <td>79</td>\n      <td>0</td>\n    </tr>\n    <tr>\n      <th>2</th>\n      <td>19627</td>\n      <td>287835</td>\n      <td>2022-04-01</td>\n      <td>89</td>\n      <td>1</td>\n    </tr>\n    <tr>\n      <th>3</th>\n      <td>19628</td>\n      <td>287836</td>\n      <td>2022-04-01</td>\n      <td>159</td>\n      <td>1</td>\n    </tr>\n    <tr>\n      <th>4</th>\n      <td>19629</td>\n      <td>287837</td>\n      <td>2022-04-01</td>\n      <td>62</td>\n      <td>0</td>\n    </tr>\n  </tbody>\n</table>\n</div>"
     },
     "execution_count": 107,
     "metadata": {},
     "output_type": "execute_result"
    }
   ],
   "source": [
    "#replace None by 0 and phishing by 1\n",
    "events_1.loc[events_1[\"Tag\"] == \"None\", \"Tag\"] = 0\n",
    "events_1.loc[events_1[\"Tag\"] == \"Phishing\", \"Tag\"] = 1\n",
    "events_1.head()\n"
   ],
   "metadata": {
    "collapsed": false,
    "pycharm": {
     "name": "#%%\n"
    }
   }
  },
  {
   "cell_type": "code",
   "execution_count": 108,
   "outputs": [
    {
     "data": {
      "text/plain": "81.80828561805322"
     },
     "execution_count": 108,
     "metadata": {},
     "output_type": "execute_result"
    }
   ],
   "source": [
    "none_attribute_count = events_1.loc[events_1[\"Tag\"] == 0, \"attribute_count\"]\n",
    "none_attribute_count.sum()/len(none_attribute_count)\n"
   ],
   "metadata": {
    "collapsed": false,
    "pycharm": {
     "name": "#%%\n"
    }
   }
  },
  {
   "cell_type": "code",
   "execution_count": 109,
   "outputs": [
    {
     "data": {
      "text/plain": "103.58932618998557"
     },
     "execution_count": 109,
     "metadata": {},
     "output_type": "execute_result"
    }
   ],
   "source": [
    "none_attribute_count = events_1.loc[events_1[\"Tag\"] == 1, \"attribute_count\"]\n",
    "none_attribute_count.sum()/len(none_attribute_count)\n"
   ],
   "metadata": {
    "collapsed": false,
    "pycharm": {
     "name": "#%%\n"
    }
   }
  },
  {
   "cell_type": "code",
   "execution_count": 110,
   "outputs": [
    {
     "data": {
      "text/plain": "87.17448471926083"
     },
     "execution_count": 110,
     "metadata": {},
     "output_type": "execute_result"
    }
   ],
   "source": [
    "events_1[\"attribute_count\"].sum()/len(events_1[\"attribute_count\"])"
   ],
   "metadata": {
    "collapsed": false,
    "pycharm": {
     "name": "#%%\n"
    }
   }
  },
  {
   "cell_type": "code",
   "execution_count": 111,
   "outputs": [
    {
     "data": {
      "text/plain": "40.0"
     },
     "execution_count": 111,
     "metadata": {},
     "output_type": "execute_result"
    }
   ],
   "source": [
    "none_attribute_count = events_1.loc[events_1[\"Tag\"] == 0, \"attribute_count\"]\n",
    "none_attribute_count.median(axis=0)"
   ],
   "metadata": {
    "collapsed": false,
    "pycharm": {
     "name": "#%%\n"
    }
   }
  },
  {
   "cell_type": "code",
   "execution_count": 112,
   "outputs": [
    {
     "data": {
      "text/plain": "50.0"
     },
     "execution_count": 112,
     "metadata": {},
     "output_type": "execute_result"
    }
   ],
   "source": [
    "none_attribute_count = events_1.loc[events_1[\"Tag\"] == 1, \"attribute_count\"]\n",
    "none_attribute_count.median(axis=0)"
   ],
   "metadata": {
    "collapsed": false,
    "pycharm": {
     "name": "#%%\n"
    }
   }
  },
  {
   "cell_type": "code",
   "execution_count": 113,
   "outputs": [
    {
     "data": {
      "text/plain": "(18961, 5)"
     },
     "execution_count": 113,
     "metadata": {},
     "output_type": "execute_result"
    }
   ],
   "source": [
    "attributes_1 = attributes_1[attributes_1[\"object_relation\"] == \"header\"]\n",
    "attributes_1.shape"
   ],
   "metadata": {
    "collapsed": false,
    "pycharm": {
     "name": "#%%\n"
    }
   }
  },
  {
   "cell_type": "code",
   "execution_count": 118,
   "outputs": [
    {
     "data": {
      "text/plain": "  Tag  event_id                                              value\n0   0    287833  Delivered-To: UNDISCLOSEDFORPRIVACY@PRIVACYDOM...\n1   0    287833  Delivered-To: UNDISCLOSEDFORPRIVACY@PRIVACYDOM...\n2   0    287834  Delivered-To: UNDISCLOSEDFORPRIVACY@PRIVACYDOM...\n3   0    287834  Delivered-To: UNDISCLOSEDFORPRIVACY@PRIVACYDOM...\n4   1    287835  Received: from 10.194.205.88\\r\\n by atlas109.s...",
      "text/html": "<div>\n<style scoped>\n    .dataframe tbody tr th:only-of-type {\n        vertical-align: middle;\n    }\n\n    .dataframe tbody tr th {\n        vertical-align: top;\n    }\n\n    .dataframe thead th {\n        text-align: right;\n    }\n</style>\n<table border=\"1\" class=\"dataframe\">\n  <thead>\n    <tr style=\"text-align: right;\">\n      <th></th>\n      <th>Tag</th>\n      <th>event_id</th>\n      <th>value</th>\n    </tr>\n  </thead>\n  <tbody>\n    <tr>\n      <th>0</th>\n      <td>0</td>\n      <td>287833</td>\n      <td>Delivered-To: UNDISCLOSEDFORPRIVACY@PRIVACYDOM...</td>\n    </tr>\n    <tr>\n      <th>1</th>\n      <td>0</td>\n      <td>287833</td>\n      <td>Delivered-To: UNDISCLOSEDFORPRIVACY@PRIVACYDOM...</td>\n    </tr>\n    <tr>\n      <th>2</th>\n      <td>0</td>\n      <td>287834</td>\n      <td>Delivered-To: UNDISCLOSEDFORPRIVACY@PRIVACYDOM...</td>\n    </tr>\n    <tr>\n      <th>3</th>\n      <td>0</td>\n      <td>287834</td>\n      <td>Delivered-To: UNDISCLOSEDFORPRIVACY@PRIVACYDOM...</td>\n    </tr>\n    <tr>\n      <th>4</th>\n      <td>1</td>\n      <td>287835</td>\n      <td>Received: from 10.194.205.88\\r\\n by atlas109.s...</td>\n    </tr>\n  </tbody>\n</table>\n</div>"
     },
     "execution_count": 118,
     "metadata": {},
     "output_type": "execute_result"
    }
   ],
   "source": [
    "merged_dataset = pd.merge(events_1, attributes_1, left_on=\"id\", right_on=\"event_id\")\n",
    "merged_dataset = merged_dataset.drop([\"id_x\", \"index_x\", \"date\", \"id_y\", \"index_y\", \"object_relation\", \"attribute_count\"], axis=1)\n",
    "\n",
    "merged_dataset.head()"
   ],
   "metadata": {
    "collapsed": false,
    "pycharm": {
     "name": "#%%\n"
    }
   }
  },
  {
   "cell_type": "code",
   "execution_count": 120,
   "outputs": [],
   "source": [
    "merged_dataset.to_csv(\"headers.csv\")"
   ],
   "metadata": {
    "collapsed": false,
    "pycharm": {
     "name": "#%%\n"
    }
   }
  }
 ],
 "metadata": {
  "kernelspec": {
   "display_name": "Python 3",
   "language": "python",
   "name": "python3"
  },
  "language_info": {
   "codemirror_mode": {
    "name": "ipython",
    "version": 2
   },
   "file_extension": ".py",
   "mimetype": "text/x-python",
   "name": "python",
   "nbconvert_exporter": "python",
   "pygments_lexer": "ipython2",
   "version": "2.7.6"
  }
 },
 "nbformat": 4,
 "nbformat_minor": 0
}