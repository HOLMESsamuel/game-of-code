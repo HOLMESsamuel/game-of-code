{
 "cells": [
  {
   "cell_type": "code",
   "execution_count": 15,
   "metadata": {
    "collapsed": true
   },
   "outputs": [],
   "source": [
    "import pandas as pd\n",
    "import matplotlib.pyplot as plt\n",
    "import numpy as np\n",
    "from sklearn.model_selection import train_test_split\n",
    "from sklearn.metrics import accuracy_score, classification_report, confusion_matrix\n"
   ]
  },
  {
   "cell_type": "code",
   "execution_count": 16,
   "outputs": [
    {
     "data": {
      "text/plain": "   Unnamed: 0  index      id        date  attribute_count  Tag  \\\n0           0  19625  287833  2022-04-01               28    0   \n1           1  19626  287834  2022-04-01               79    0   \n2           2  19627  287835  2022-04-01               89    1   \n3           3  19628  287836  2022-04-01              159    1   \n4           4  19629  287837  2022-04-01               62    0   \n\n                                              header  \\\n0  Delivered-To: UNDISCLOSEDFORPRIVACY@PRIVACYDOM...   \n1  Delivered-To: UNDISCLOSEDFORPRIVACY@PRIVACYDOM...   \n2  Received: from 10.194.205.88\\r\\n by atlas109.s...   \n3  Received: from 10.213.249.35\\r\\n by atlas106.s...   \n4  Received: from 10.194.205.88\\r\\n by atlas103.s...   \n\n                                                from  \\\n0  earleenlpwoodman2593@gmail.com|earleenlpwoodma...   \n1  quickbooks@notification.intuit.com|quickbooks@...   \n2    fortune@msg.fortune.com|fortune@msg.fortune.com   \n3  miltongrovesc.yahoo.com@send.mailchimpapp.com|...   \n4  pedidos@riooffsite.com.br|pedidos@riooffsite.c...   \n\n                                       feedback_time  \\\n0  2022-03-31T23:21:12.000000+0000|2022-03-31T23:...   \n1  2022-04-01T00:26:28.000000+0000|2022-04-01T00:...   \n2  2022-04-01T00:58:47.000000+0000|2022-04-01T00:...   \n3  2022-04-01T00:55:55.000000+0000|2022-04-01T00:...   \n4  2022-04-01T00:56:38.000000+0000|2022-04-01T00:...   \n\n                                                host  from_count  host_count  \\\n0                          www1.nyc.gov|www1.nyc.gov           2           2   \n1  links.notification.intuit.com|links.notificati...           2          12   \n2  fortune.com|fortune.com|fortune.com|fortune.co...           2          16   \n3  mailchi.mp|miltongrovesc.us15.list-manage.com|...           2          30   \n4  u10225017.ct.sendgrid.net|usaa.com|u10225017.c...           2          10   \n\n   host_count_ln  \n0       0.693147  \n1       2.484907  \n2       2.772589  \n3       3.401197  \n4       2.302585  ",
      "text/html": "<div>\n<style scoped>\n    .dataframe tbody tr th:only-of-type {\n        vertical-align: middle;\n    }\n\n    .dataframe tbody tr th {\n        vertical-align: top;\n    }\n\n    .dataframe thead th {\n        text-align: right;\n    }\n</style>\n<table border=\"1\" class=\"dataframe\">\n  <thead>\n    <tr style=\"text-align: right;\">\n      <th></th>\n      <th>Unnamed: 0</th>\n      <th>index</th>\n      <th>id</th>\n      <th>date</th>\n      <th>attribute_count</th>\n      <th>Tag</th>\n      <th>header</th>\n      <th>from</th>\n      <th>feedback_time</th>\n      <th>host</th>\n      <th>from_count</th>\n      <th>host_count</th>\n      <th>host_count_ln</th>\n    </tr>\n  </thead>\n  <tbody>\n    <tr>\n      <th>0</th>\n      <td>0</td>\n      <td>19625</td>\n      <td>287833</td>\n      <td>2022-04-01</td>\n      <td>28</td>\n      <td>0</td>\n      <td>Delivered-To: UNDISCLOSEDFORPRIVACY@PRIVACYDOM...</td>\n      <td>earleenlpwoodman2593@gmail.com|earleenlpwoodma...</td>\n      <td>2022-03-31T23:21:12.000000+0000|2022-03-31T23:...</td>\n      <td>www1.nyc.gov|www1.nyc.gov</td>\n      <td>2</td>\n      <td>2</td>\n      <td>0.693147</td>\n    </tr>\n    <tr>\n      <th>1</th>\n      <td>1</td>\n      <td>19626</td>\n      <td>287834</td>\n      <td>2022-04-01</td>\n      <td>79</td>\n      <td>0</td>\n      <td>Delivered-To: UNDISCLOSEDFORPRIVACY@PRIVACYDOM...</td>\n      <td>quickbooks@notification.intuit.com|quickbooks@...</td>\n      <td>2022-04-01T00:26:28.000000+0000|2022-04-01T00:...</td>\n      <td>links.notification.intuit.com|links.notificati...</td>\n      <td>2</td>\n      <td>12</td>\n      <td>2.484907</td>\n    </tr>\n    <tr>\n      <th>2</th>\n      <td>2</td>\n      <td>19627</td>\n      <td>287835</td>\n      <td>2022-04-01</td>\n      <td>89</td>\n      <td>1</td>\n      <td>Received: from 10.194.205.88\\r\\n by atlas109.s...</td>\n      <td>fortune@msg.fortune.com|fortune@msg.fortune.com</td>\n      <td>2022-04-01T00:58:47.000000+0000|2022-04-01T00:...</td>\n      <td>fortune.com|fortune.com|fortune.com|fortune.co...</td>\n      <td>2</td>\n      <td>16</td>\n      <td>2.772589</td>\n    </tr>\n    <tr>\n      <th>3</th>\n      <td>3</td>\n      <td>19628</td>\n      <td>287836</td>\n      <td>2022-04-01</td>\n      <td>159</td>\n      <td>1</td>\n      <td>Received: from 10.213.249.35\\r\\n by atlas106.s...</td>\n      <td>miltongrovesc.yahoo.com@send.mailchimpapp.com|...</td>\n      <td>2022-04-01T00:55:55.000000+0000|2022-04-01T00:...</td>\n      <td>mailchi.mp|miltongrovesc.us15.list-manage.com|...</td>\n      <td>2</td>\n      <td>30</td>\n      <td>3.401197</td>\n    </tr>\n    <tr>\n      <th>4</th>\n      <td>4</td>\n      <td>19629</td>\n      <td>287837</td>\n      <td>2022-04-01</td>\n      <td>62</td>\n      <td>0</td>\n      <td>Received: from 10.194.205.88\\r\\n by atlas103.s...</td>\n      <td>pedidos@riooffsite.com.br|pedidos@riooffsite.c...</td>\n      <td>2022-04-01T00:56:38.000000+0000|2022-04-01T00:...</td>\n      <td>u10225017.ct.sendgrid.net|usaa.com|u10225017.c...</td>\n      <td>2</td>\n      <td>10</td>\n      <td>2.302585</td>\n    </tr>\n  </tbody>\n</table>\n</div>"
     },
     "execution_count": 16,
     "metadata": {},
     "output_type": "execute_result"
    }
   ],
   "source": [
    "events = pd.read_csv(\"events_augmented.csv\")\n",
    "events.head()\n"
   ],
   "metadata": {
    "collapsed": false,
    "pycharm": {
     "name": "#%%\n"
    }
   }
  },
  {
   "cell_type": "code",
   "execution_count": 17,
   "outputs": [
    {
     "name": "stdout",
     "output_type": "stream",
     "text": [
      "(39323, 1)\n",
      "(39323,)\n"
     ]
    }
   ],
   "source": [
    "#separate features and prediction\n",
    "X, y = events[[\"host_count\"]], events[\"Tag\"]\n",
    "print(X.shape)\n",
    "print(y.shape)"
   ],
   "metadata": {
    "collapsed": false,
    "pycharm": {
     "name": "#%%\n"
    }
   }
  },
  {
   "cell_type": "code",
   "execution_count": 18,
   "outputs": [
    {
     "name": "stdout",
     "output_type": "stream",
     "text": [
      "(29492, 1) (29492,)\n"
     ]
    }
   ],
   "source": [
    "X_train, X_test, y_train, y_test = train_test_split(X, y, test_size=0.25, random_state=33)\n",
    "print (X_train.shape, y_train.shape)"
   ],
   "metadata": {
    "collapsed": false,
    "pycharm": {
     "name": "#%%\n"
    }
   }
  },
  {
   "cell_type": "code",
   "execution_count": 19,
   "outputs": [
    {
     "data": {
      "text/plain": "SGDClassifier()",
      "text/html": "<style>#sk-container-id-2 {color: black;background-color: white;}#sk-container-id-2 pre{padding: 0;}#sk-container-id-2 div.sk-toggleable {background-color: white;}#sk-container-id-2 label.sk-toggleable__label {cursor: pointer;display: block;width: 100%;margin-bottom: 0;padding: 0.3em;box-sizing: border-box;text-align: center;}#sk-container-id-2 label.sk-toggleable__label-arrow:before {content: \"▸\";float: left;margin-right: 0.25em;color: #696969;}#sk-container-id-2 label.sk-toggleable__label-arrow:hover:before {color: black;}#sk-container-id-2 div.sk-estimator:hover label.sk-toggleable__label-arrow:before {color: black;}#sk-container-id-2 div.sk-toggleable__content {max-height: 0;max-width: 0;overflow: hidden;text-align: left;background-color: #f0f8ff;}#sk-container-id-2 div.sk-toggleable__content pre {margin: 0.2em;color: black;border-radius: 0.25em;background-color: #f0f8ff;}#sk-container-id-2 input.sk-toggleable__control:checked~div.sk-toggleable__content {max-height: 200px;max-width: 100%;overflow: auto;}#sk-container-id-2 input.sk-toggleable__control:checked~label.sk-toggleable__label-arrow:before {content: \"▾\";}#sk-container-id-2 div.sk-estimator input.sk-toggleable__control:checked~label.sk-toggleable__label {background-color: #d4ebff;}#sk-container-id-2 div.sk-label input.sk-toggleable__control:checked~label.sk-toggleable__label {background-color: #d4ebff;}#sk-container-id-2 input.sk-hidden--visually {border: 0;clip: rect(1px 1px 1px 1px);clip: rect(1px, 1px, 1px, 1px);height: 1px;margin: -1px;overflow: hidden;padding: 0;position: absolute;width: 1px;}#sk-container-id-2 div.sk-estimator {font-family: monospace;background-color: #f0f8ff;border: 1px dotted black;border-radius: 0.25em;box-sizing: border-box;margin-bottom: 0.5em;}#sk-container-id-2 div.sk-estimator:hover {background-color: #d4ebff;}#sk-container-id-2 div.sk-parallel-item::after {content: \"\";width: 100%;border-bottom: 1px solid gray;flex-grow: 1;}#sk-container-id-2 div.sk-label:hover label.sk-toggleable__label {background-color: #d4ebff;}#sk-container-id-2 div.sk-serial::before {content: \"\";position: absolute;border-left: 1px solid gray;box-sizing: border-box;top: 0;bottom: 0;left: 50%;z-index: 0;}#sk-container-id-2 div.sk-serial {display: flex;flex-direction: column;align-items: center;background-color: white;padding-right: 0.2em;padding-left: 0.2em;position: relative;}#sk-container-id-2 div.sk-item {position: relative;z-index: 1;}#sk-container-id-2 div.sk-parallel {display: flex;align-items: stretch;justify-content: center;background-color: white;position: relative;}#sk-container-id-2 div.sk-item::before, #sk-container-id-2 div.sk-parallel-item::before {content: \"\";position: absolute;border-left: 1px solid gray;box-sizing: border-box;top: 0;bottom: 0;left: 50%;z-index: -1;}#sk-container-id-2 div.sk-parallel-item {display: flex;flex-direction: column;z-index: 1;position: relative;background-color: white;}#sk-container-id-2 div.sk-parallel-item:first-child::after {align-self: flex-end;width: 50%;}#sk-container-id-2 div.sk-parallel-item:last-child::after {align-self: flex-start;width: 50%;}#sk-container-id-2 div.sk-parallel-item:only-child::after {width: 0;}#sk-container-id-2 div.sk-dashed-wrapped {border: 1px dashed gray;margin: 0 0.4em 0.5em 0.4em;box-sizing: border-box;padding-bottom: 0.4em;background-color: white;}#sk-container-id-2 div.sk-label label {font-family: monospace;font-weight: bold;display: inline-block;line-height: 1.2em;}#sk-container-id-2 div.sk-label-container {text-align: center;}#sk-container-id-2 div.sk-container {/* jupyter's `normalize.less` sets `[hidden] { display: none; }` but bootstrap.min.css set `[hidden] { display: none !important; }` so we also need the `!important` here to be able to override the default hidden behavior on the sphinx rendered scikit-learn.org. See: https://github.com/scikit-learn/scikit-learn/issues/21755 */display: inline-block !important;position: relative;}#sk-container-id-2 div.sk-text-repr-fallback {display: none;}</style><div id=\"sk-container-id-2\" class=\"sk-top-container\"><div class=\"sk-text-repr-fallback\"><pre>SGDClassifier()</pre><b>In a Jupyter environment, please rerun this cell to show the HTML representation or trust the notebook. <br />On GitHub, the HTML representation is unable to render, please try loading this page with nbviewer.org.</b></div><div class=\"sk-container\" hidden><div class=\"sk-item\"><div class=\"sk-estimator sk-toggleable\"><input class=\"sk-toggleable__control sk-hidden--visually\" id=\"sk-estimator-id-2\" type=\"checkbox\" checked><label for=\"sk-estimator-id-2\" class=\"sk-toggleable__label sk-toggleable__label-arrow\">SGDClassifier</label><div class=\"sk-toggleable__content\"><pre>SGDClassifier()</pre></div></div></div></div></div>"
     },
     "execution_count": 19,
     "metadata": {},
     "output_type": "execute_result"
    }
   ],
   "source": [
    "#create linear classification model\n",
    "\n",
    "from sklearn.linear_model import SGDClassifier\n",
    "clf = SGDClassifier()\n",
    "clf.fit(X_train, y_train)"
   ],
   "metadata": {
    "collapsed": false,
    "pycharm": {
     "name": "#%%\n"
    }
   }
  },
  {
   "cell_type": "code",
   "execution_count": 20,
   "outputs": [
    {
     "name": "stdout",
     "output_type": "stream",
     "text": [
      "0.7167028346670283\n"
     ]
    }
   ],
   "source": [
    "#evaluate on training set\n",
    "from sklearn import metrics\n",
    "y_train_pred = clf.predict(X_train)\n",
    "print (metrics.accuracy_score(y_train, y_train_pred))"
   ],
   "metadata": {
    "collapsed": false,
    "pycharm": {
     "name": "#%%\n"
    }
   }
  },
  {
   "cell_type": "code",
   "execution_count": 21,
   "outputs": [
    {
     "name": "stdout",
     "output_type": "stream",
     "text": [
      "0.7279015359576849\n"
     ]
    }
   ],
   "source": [
    "#evaluate on test set\n",
    "#Measure accuracy on the testing set\n",
    "y_pred = clf.predict(X_test)\n",
    "print (metrics.accuracy_score(y_test, y_pred))"
   ],
   "metadata": {
    "collapsed": false,
    "pycharm": {
     "name": "#%%\n"
    }
   }
  },
  {
   "cell_type": "code",
   "execution_count": 22,
   "outputs": [
    {
     "name": "stdout",
     "output_type": "stream",
     "text": [
      "\n",
      "=======================================================\n",
      "Classification Report\n",
      "=======================================================\n",
      "              precision    recall  f1-score   support\n",
      "\n",
      "           0       0.77      0.99      0.87      7540\n",
      "           1       0.64      0.04      0.08      2291\n",
      "\n",
      "    accuracy                           0.77      9831\n",
      "   macro avg       0.71      0.52      0.47      9831\n",
      "weighted avg       0.74      0.77      0.69      9831\n",
      "\n",
      "=======================================================\n",
      "\n",
      "\n",
      "--------------------\n",
      "Confusion Matrix: \n",
      "--------------------\n",
      "[[7486   54]\n",
      " [2194   97]]\n",
      "--------------------\n",
      "\n",
      "\n",
      "**************************************************\n",
      "Accuracy: 77.13355711524768\n",
      "**************************************************\n",
      "\n"
     ]
    }
   ],
   "source": [
    "#support vector machine classifier\n",
    "from sklearn import svm\n",
    "SVM_clf = svm.SVC().fit(X_train, y_train)\n",
    "SVM_prediction = SVM_clf.predict(X_test)\n",
    "SVM_accuracy=100*accuracy_score(y_test, SVM_prediction)\n",
    "print('','Classification Report',classification_report(y_test, SVM_prediction),'',sep='\\n'+(55*'=')+'\\n')\n",
    "print('',\"Confusion Matrix: \", confusion_matrix(y_test, SVM_prediction),'',sep='\\n'+(20*'-')+'\\n')\n",
    "print('',f\"Accuracy: {SVM_accuracy}\",'',sep='\\n'+(50*'*')+'\\n')"
   ],
   "metadata": {
    "collapsed": false,
    "pycharm": {
     "name": "#%%\n"
    }
   }
  },
  {
   "cell_type": "code",
   "execution_count": 23,
   "outputs": [
    {
     "name": "stdout",
     "output_type": "stream",
     "text": [
      "\n",
      "=======================================================\n",
      "Classification Report\n",
      "=======================================================\n",
      "              precision    recall  f1-score   support\n",
      "\n",
      "           0       0.78      0.89      0.83      7540\n",
      "           1       0.32      0.18      0.23      2291\n",
      "\n",
      "    accuracy                           0.72      9831\n",
      "   macro avg       0.55      0.53      0.53      9831\n",
      "weighted avg       0.67      0.72      0.69      9831\n",
      "\n",
      "=======================================================\n",
      "\n",
      "\n",
      "--------------------\n",
      "Confusion Matrix: \n",
      "--------------------\n",
      "[[6676  864]\n",
      " [1887  404]]\n",
      "--------------------\n",
      "\n",
      "\n",
      "**************************************************\n",
      "Accuracy: 72.01708880073238\n",
      "**************************************************\n",
      "\n"
     ]
    }
   ],
   "source": [
    "from sklearn import neighbors\n",
    "knn_clf = neighbors.KNeighborsClassifier(n_neighbors=1)\n",
    "knn_clf.fit(X_train,y_train)\n",
    "knn_prediction = knn_clf.predict(X_test)\n",
    "knn_accuracy=100*accuracy_score(y_test, knn_prediction)\n",
    "print('','Classification Report',classification_report(y_test, knn_prediction),'',sep='\\n'+(55*'=')+'\\n')\n",
    "print('',\"Confusion Matrix: \", confusion_matrix(y_test, knn_prediction),'',sep='\\n'+(20*'-')+'\\n')\n",
    "print('',f\"Accuracy: {knn_accuracy}\",'',sep='\\n'+(50*'*')+'\\n')"
   ],
   "metadata": {
    "collapsed": false,
    "pycharm": {
     "name": "#%%\n"
    }
   }
  },
  {
   "cell_type": "code",
   "execution_count": 24,
   "outputs": [
    {
     "name": "stdout",
     "output_type": "stream",
     "text": [
      "\n",
      "=======================================================\n",
      "Classification Report\n",
      "=======================================================\n",
      "              precision    recall  f1-score   support\n",
      "\n",
      "           0       0.77      1.00      0.87      7540\n",
      "           1       0.17      0.00      0.00      2291\n",
      "\n",
      "    accuracy                           0.77      9831\n",
      "   macro avg       0.47      0.50      0.43      9831\n",
      "weighted avg       0.63      0.77      0.67      9831\n",
      "\n",
      "=======================================================\n",
      "\n",
      "\n",
      "--------------------\n",
      "Confusion Matrix: \n",
      "--------------------\n",
      "[[7530   10]\n",
      " [2289    2]]\n",
      "--------------------\n",
      "\n",
      "\n",
      "**************************************************\n",
      "Accuracy: 76.61478995015767\n",
      "**************************************************\n",
      "\n"
     ]
    }
   ],
   "source": [
    "from sklearn.linear_model import LogisticRegression\n",
    "LR = LogisticRegression()\n",
    "LR.fit(X_train,y_train)\n",
    "LR_prediction = LR.predict(X_test)\n",
    "LR_accuracy=100*accuracy_score(y_test, LR_prediction)\n",
    "print('','Classification Report',classification_report(y_test, LR_prediction),'',sep='\\n'+(55*'=')+'\\n')\n",
    "print('',\"Confusion Matrix: \", confusion_matrix(y_test, LR_prediction),'',sep='\\n'+(20*'-')+'\\n')\n",
    "print('',f\"Accuracy: {LR_accuracy}\",'',sep='\\n'+(50*'*')+'\\n')"
   ],
   "metadata": {
    "collapsed": false,
    "pycharm": {
     "name": "#%%\n"
    }
   }
  },
  {
   "cell_type": "code",
   "execution_count": 25,
   "outputs": [
    {
     "name": "stdout",
     "output_type": "stream",
     "text": [
      "\n",
      "=======================================================\n",
      "Classification Report\n",
      "=======================================================\n",
      "              precision    recall  f1-score   support\n",
      "\n",
      "           0       0.77      0.99      0.87      7540\n",
      "           1       0.74      0.05      0.09      2291\n",
      "\n",
      "    accuracy                           0.77      9831\n",
      "   macro avg       0.76      0.52      0.48      9831\n",
      "weighted avg       0.77      0.77      0.69      9831\n",
      "\n",
      "=======================================================\n",
      "\n",
      "\n",
      "--------------------\n",
      "Confusion Matrix: \n",
      "--------------------\n",
      "[[7502   38]\n",
      " [2182  109]]\n",
      "--------------------\n",
      "\n",
      "\n",
      "**************************************************\n",
      "Accuracy: 77.4183704607873\n",
      "**************************************************\n",
      "\n"
     ]
    }
   ],
   "source": [
    "from sklearn import tree\n",
    "DT = tree.DecisionTreeClassifier()\n",
    "DT.fit(X_train, y_train)\n",
    "DT_prediction = DT.predict(X_test)\n",
    "DT_accuracy=100.0 * accuracy_score(y_test, DT_prediction)\n",
    "print('','Classification Report',classification_report(y_test, DT_prediction),'',sep='\\n'+(55*'=')+'\\n')\n",
    "print('',\"Confusion Matrix: \", confusion_matrix(y_test, DT_prediction),'',sep='\\n'+(20*'-')+'\\n')\n",
    "print('',f\"Accuracy: {DT_accuracy}\",'',sep='\\n'+(50*'*')+'\\n')"
   ],
   "metadata": {
    "collapsed": false,
    "pycharm": {
     "name": "#%%\n"
    }
   }
  },
  {
   "cell_type": "code",
   "execution_count": 26,
   "outputs": [
    {
     "name": "stdout",
     "output_type": "stream",
     "text": [
      "\n",
      "=======================================================\n",
      "Classification Report\n",
      "=======================================================\n",
      "              precision    recall  f1-score   support\n",
      "\n",
      "           0       0.77      0.97      0.86      7540\n",
      "           1       0.41      0.06      0.11      2291\n",
      "\n",
      "    accuracy                           0.76      9831\n",
      "   macro avg       0.59      0.52      0.49      9831\n",
      "weighted avg       0.69      0.76      0.69      9831\n",
      "\n",
      "=======================================================\n",
      "\n",
      "\n",
      "--------------------\n",
      "Confusion Matrix: \n",
      "--------------------\n",
      "[[7324  216]\n",
      " [2143  148]]\n",
      "--------------------\n",
      "\n",
      "\n",
      "**************************************************\n",
      "Accuracy: 76.00447563828705\n",
      "**************************************************\n",
      "\n"
     ]
    }
   ],
   "source": [
    "from sklearn.naive_bayes import GaussianNB\n",
    "GB_clf=GaussianNB()\n",
    "GB_clf.fit(X_train,y_train)\n",
    "GB_prediction=GB_clf.predict(X_test)\n",
    "GB_accuracy=100.0 * accuracy_score(y_test, GB_prediction)\n",
    "print('','Classification Report',classification_report(y_test, GB_prediction),'',sep='\\n'+(55*'=')+'\\n')\n",
    "print('',\"Confusion Matrix: \", confusion_matrix(y_test, GB_prediction),'',sep='\\n'+(20*'-')+'\\n')\n",
    "print('',f\"Accuracy: {GB_accuracy}\",'',sep='\\n'+(50*'*')+'\\n')"
   ],
   "metadata": {
    "collapsed": false,
    "pycharm": {
     "name": "#%%\n"
    }
   }
  }
 ],
 "metadata": {
  "kernelspec": {
   "display_name": "Python 3",
   "language": "python",
   "name": "python3"
  },
  "language_info": {
   "codemirror_mode": {
    "name": "ipython",
    "version": 2
   },
   "file_extension": ".py",
   "mimetype": "text/x-python",
   "name": "python",
   "nbconvert_exporter": "python",
   "pygments_lexer": "ipython2",
   "version": "2.7.6"
  }
 },
 "nbformat": 4,
 "nbformat_minor": 0
}